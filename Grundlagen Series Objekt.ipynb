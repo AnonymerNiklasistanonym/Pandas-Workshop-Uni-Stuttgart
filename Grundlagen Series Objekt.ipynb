{
 "cells": [
  {
   "cell_type": "code",
   "execution_count": 100,
   "metadata": {},
   "outputs": [],
   "source": [
    "import pandas as pd\n",
    "import math"
   ]
  },
  {
   "cell_type": "markdown",
   "metadata": {},
   "source": [
    "# Das Series Objekt"
   ]
  },
  {
   "cell_type": "code",
   "execution_count": 101,
   "metadata": {},
   "outputs": [],
   "source": [
    "stg_bezirke = pd.Series({'Mitte':21230, 'Nord':24755, 'Ost':45826, 'Sued':42477, 'West':49625, 'Bad Cannstatt':66611, 'Birkach':6517,\n",
    "          'Botnang':12685, 'Degerloch':16113, 'Feuerbach':27410, 'Hedelfingen':9129, 'Moehringen':29515, 'Muehlhausen':25209,\n",
    "          'Muenster':6277, 'Obertuerkheim':8081, 'Plieningen': 12512, 'Sillenbuch':23164, 'Stammheim':11714, 'Untertuerkheim':15876,\n",
    "          'Vaihingen':43540, 'Wangen':8464, 'Weilimdorf': 30739, 'Zuffenhausen':35585})"
   ]
  },
  {
   "cell_type": "code",
   "execution_count": 102,
   "metadata": {},
   "outputs": [
    {
     "data": {
      "text/plain": [
       "Bad Cannstatt     66611\n",
       "Birkach            6517\n",
       "Botnang           12685\n",
       "Degerloch         16113\n",
       "Feuerbach         27410\n",
       "Hedelfingen        9129\n",
       "Mitte             21230\n",
       "Moehringen        29515\n",
       "Muehlhausen       25209\n",
       "Muenster           6277\n",
       "Nord              24755\n",
       "Obertuerkheim      8081\n",
       "Ost               45826\n",
       "Plieningen        12512\n",
       "Sillenbuch        23164\n",
       "Stammheim         11714\n",
       "Sued              42477\n",
       "Untertuerkheim    15876\n",
       "Vaihingen         43540\n",
       "Wangen             8464\n",
       "Weilimdorf        30739\n",
       "West              49625\n",
       "Zuffenhausen      35585\n",
       "dtype: int64"
      ]
     },
     "execution_count": 102,
     "metadata": {},
     "output_type": "execute_result"
    }
   ],
   "source": [
    "stg_bezirke"
   ]
  },
  {
   "cell_type": "code",
   "execution_count": 103,
   "metadata": {},
   "outputs": [
    {
     "data": {
      "text/plain": [
       "Index(['Bad Cannstatt', 'Birkach', 'Botnang', 'Degerloch', 'Feuerbach',\n",
       "       'Hedelfingen', 'Mitte', 'Moehringen', 'Muehlhausen', 'Muenster', 'Nord',\n",
       "       'Obertuerkheim', 'Ost', 'Plieningen', 'Sillenbuch', 'Stammheim', 'Sued',\n",
       "       'Untertuerkheim', 'Vaihingen', 'Wangen', 'Weilimdorf', 'West',\n",
       "       'Zuffenhausen'],\n",
       "      dtype='object')"
      ]
     },
     "execution_count": 103,
     "metadata": {},
     "output_type": "execute_result"
    }
   ],
   "source": [
    "stg_bezirke.index"
   ]
  },
  {
   "cell_type": "code",
   "execution_count": 104,
   "metadata": {},
   "outputs": [
    {
     "data": {
      "text/plain": [
       "array([66611,  6517, 12685, 16113, 27410,  9129, 21230, 29515, 25209,\n",
       "        6277, 24755,  8081, 45826, 12512, 23164, 11714, 42477, 15876,\n",
       "       43540,  8464, 30739, 49625, 35585], dtype=int64)"
      ]
     },
     "execution_count": 104,
     "metadata": {},
     "output_type": "execute_result"
    }
   ],
   "source": [
    "stg_bezirke.values"
   ]
  },
  {
   "cell_type": "code",
   "execution_count": 84,
   "metadata": {},
   "outputs": [
    {
     "data": {
      "text/plain": [
       "23"
      ]
     },
     "execution_count": 84,
     "metadata": {},
     "output_type": "execute_result"
    }
   ],
   "source": [
    "len(stg_bezirke)"
   ]
  },
  {
   "cell_type": "markdown",
   "metadata": {},
   "source": [
    "### Zugriff auf oberste und unterste Ausschnitte"
   ]
  },
  {
   "cell_type": "code",
   "execution_count": 85,
   "metadata": {},
   "outputs": [
    {
     "data": {
      "text/plain": [
       "Bad Cannstatt    66611\n",
       "Birkach           6517\n",
       "Botnang          12685\n",
       "Degerloch        16113\n",
       "Feuerbach        27410\n",
       "dtype: int64"
      ]
     },
     "execution_count": 85,
     "metadata": {},
     "output_type": "execute_result"
    }
   ],
   "source": [
    "#Per Default nimmt head immer die obersten 5 Werte\n",
    "stg_bezirke.head()"
   ]
  },
  {
   "cell_type": "code",
   "execution_count": 86,
   "metadata": {},
   "outputs": [
    {
     "data": {
      "text/plain": [
       "Bad Cannstatt    66611\n",
       "Birkach           6517\n",
       "Botnang          12685\n",
       "Degerloch        16113\n",
       "Feuerbach        27410\n",
       "Hedelfingen       9129\n",
       "Mitte            21230\n",
       "Moehringen       29515\n",
       "Muehlhausen      25209\n",
       "Muenster          6277\n",
       "dtype: int64"
      ]
     },
     "execution_count": 86,
     "metadata": {},
     "output_type": "execute_result"
    }
   ],
   "source": [
    "stg_bezirke.head(10)"
   ]
  },
  {
   "cell_type": "code",
   "execution_count": 87,
   "metadata": {},
   "outputs": [
    {
     "data": {
      "text/plain": [
       "Vaihingen       43540\n",
       "Wangen           8464\n",
       "Weilimdorf      30739\n",
       "West            49625\n",
       "Zuffenhausen    35585\n",
       "dtype: int64"
      ]
     },
     "execution_count": 87,
     "metadata": {},
     "output_type": "execute_result"
    }
   ],
   "source": [
    "stg_bezirke.tail()"
   ]
  },
  {
   "cell_type": "markdown",
   "metadata": {},
   "source": [
    "### Zugriff auf einzelne Werte via Index (Default Selektor)"
   ]
  },
  {
   "cell_type": "code",
   "execution_count": 88,
   "metadata": {},
   "outputs": [
    {
     "data": {
      "text/plain": [
       "45826"
      ]
     },
     "execution_count": 88,
     "metadata": {},
     "output_type": "execute_result"
    }
   ],
   "source": [
    "stg_bezirke['Ost']"
   ]
  },
  {
   "cell_type": "code",
   "execution_count": 89,
   "metadata": {},
   "outputs": [
    {
     "data": {
      "text/plain": [
       "21230"
      ]
     },
     "execution_count": 89,
     "metadata": {},
     "output_type": "execute_result"
    }
   ],
   "source": [
    "stg_bezirke['Mitte']"
   ]
  },
  {
   "cell_type": "code",
   "execution_count": 90,
   "metadata": {},
   "outputs": [
    {
     "data": {
      "text/plain": [
       "Mitte    21230\n",
       "Ost      45826\n",
       "dtype: int64"
      ]
     },
     "execution_count": 90,
     "metadata": {},
     "output_type": "execute_result"
    }
   ],
   "source": [
    "stg_bezirke[['Mitte', 'Ost']]"
   ]
  },
  {
   "cell_type": "markdown",
   "metadata": {},
   "source": [
    "### Integer Location (Ähnlich zu Zeilennummer, nicht verwechseln mit Index)"
   ]
  },
  {
   "cell_type": "code",
   "execution_count": 91,
   "metadata": {},
   "outputs": [
    {
     "data": {
      "text/plain": [
       "6517"
      ]
     },
     "execution_count": 91,
     "metadata": {},
     "output_type": "execute_result"
    }
   ],
   "source": [
    "stg_bezirke.iloc[1]"
   ]
  },
  {
   "cell_type": "code",
   "execution_count": 92,
   "metadata": {},
   "outputs": [
    {
     "data": {
      "text/plain": [
       "Degerloch      16113\n",
       "Feuerbach      27410\n",
       "Hedelfingen     9129\n",
       "Mitte          21230\n",
       "dtype: int64"
      ]
     },
     "execution_count": 92,
     "metadata": {},
     "output_type": "execute_result"
    }
   ],
   "source": [
    "stg_bezirke.iloc[3:7]"
   ]
  },
  {
   "cell_type": "code",
   "execution_count": 93,
   "metadata": {},
   "outputs": [
    {
     "data": {
      "text/plain": [
       "Degerloch      16113\n",
       "Moehringen     29515\n",
       "Muehlhausen    25209\n",
       "dtype: int64"
      ]
     },
     "execution_count": 93,
     "metadata": {},
     "output_type": "execute_result"
    }
   ],
   "source": [
    "stg_bezirke.iloc[[3,7,8]]"
   ]
  },
  {
   "cell_type": "code",
   "execution_count": 94,
   "metadata": {},
   "outputs": [
    {
     "data": {
      "text/plain": [
       "Bad Cannstatt    66611\n",
       "Botnang          12685\n",
       "Feuerbach        27410\n",
       "Mitte            21230\n",
       "Muehlhausen      25209\n",
       "Nord             24755\n",
       "Ost              45826\n",
       "Sillenbuch       23164\n",
       "Sued             42477\n",
       "Vaihingen        43540\n",
       "Weilimdorf       30739\n",
       "Zuffenhausen     35585\n",
       "dtype: int64"
      ]
     },
     "execution_count": 94,
     "metadata": {},
     "output_type": "execute_result"
    }
   ],
   "source": [
    "#iloc kann nicht nur mit numerischen Werten verwendet werden sondern auch mit True False Kombinationen\n",
    "stg_bezirke.iloc[[(x % 2) == 0 for x in range(0,23)]]"
   ]
  },
  {
   "cell_type": "code",
   "execution_count": 95,
   "metadata": {},
   "outputs": [
    {
     "data": {
      "text/plain": [
       "Bad Cannstatt    66611\n",
       "Botnang          12685\n",
       "Feuerbach        27410\n",
       "Mitte            21230\n",
       "Muehlhausen      25209\n",
       "Nord             24755\n",
       "Ost              45826\n",
       "Sillenbuch       23164\n",
       "Sued             42477\n",
       "Vaihingen        43540\n",
       "Weilimdorf       30739\n",
       "Zuffenhausen     35585\n",
       "dtype: int64"
      ]
     },
     "execution_count": 95,
     "metadata": {},
     "output_type": "execute_result"
    }
   ],
   "source": [
    "#Auch der Default Selektor kann via True/False Ketten verwendet werden\n",
    "stg_bezirke[[(x % 2) == 0 for x in range(0,23)]]"
   ]
  },
  {
   "cell_type": "code",
   "execution_count": 96,
   "metadata": {},
   "outputs": [
    {
     "data": {
      "text/plain": [
       "Bad Cannstatt    66611\n",
       "Birkach           6517\n",
       "Botnang          12685\n",
       "dtype: int64"
      ]
     },
     "execution_count": 96,
     "metadata": {},
     "output_type": "execute_result"
    }
   ],
   "source": [
    "# Auch der Default Selektor kann mit Integer Werten verwendet werden. Dies birgt jedoch Gefahren.\n",
    "# Was denkt ihr spricht dagegen?\n",
    "\n",
    "stg_bezirke[:3]"
   ]
  },
  {
   "cell_type": "markdown",
   "metadata": {},
   "source": [
    "### Modifikationen von Series Objekten"
   ]
  },
  {
   "cell_type": "code",
   "execution_count": 97,
   "metadata": {},
   "outputs": [
    {
     "data": {
      "text/plain": [
       "Bad Cannstatt     66611\n",
       "West              49625\n",
       "Ost               45826\n",
       "Vaihingen         43540\n",
       "Sued              42477\n",
       "Zuffenhausen      35585\n",
       "Weilimdorf        30739\n",
       "Moehringen        29515\n",
       "Feuerbach         27410\n",
       "Muehlhausen       25209\n",
       "Nord              24755\n",
       "Sillenbuch        23164\n",
       "Mitte             21230\n",
       "Degerloch         16113\n",
       "Untertuerkheim    15876\n",
       "Botnang           12685\n",
       "Plieningen        12512\n",
       "Stammheim         11714\n",
       "Hedelfingen        9129\n",
       "Wangen             8464\n",
       "Obertuerkheim      8081\n",
       "Birkach            6517\n",
       "Muenster           6277\n",
       "dtype: int64"
      ]
     },
     "execution_count": 97,
     "metadata": {},
     "output_type": "execute_result"
    }
   ],
   "source": [
    "stg_bezirke.sort_values(ascending=False)"
   ]
  },
  {
   "cell_type": "markdown",
   "metadata": {},
   "source": [
    "#### Einfache Vektoroperationen"
   ]
  },
  {
   "cell_type": "code",
   "execution_count": 98,
   "metadata": {},
   "outputs": [
    {
     "data": {
      "text/plain": [
       "Bad Cannstatt     73272.1\n",
       "Birkach            7168.7\n",
       "Botnang           13953.5\n",
       "Degerloch         17724.3\n",
       "Feuerbach         30151.0\n",
       "Hedelfingen       10041.9\n",
       "Mitte             23353.0\n",
       "Moehringen        32466.5\n",
       "Muehlhausen       27729.9\n",
       "Muenster           6904.7\n",
       "Nord              27230.5\n",
       "Obertuerkheim      8889.1\n",
       "Ost               50408.6\n",
       "Plieningen        13763.2\n",
       "Sillenbuch        25480.4\n",
       "Stammheim         12885.4\n",
       "Sued              46724.7\n",
       "Untertuerkheim    17463.6\n",
       "Vaihingen         47894.0\n",
       "Wangen             9310.4\n",
       "Weilimdorf        33812.9\n",
       "West              54587.5\n",
       "Zuffenhausen      39143.5\n",
       "dtype: float64"
      ]
     },
     "execution_count": 98,
     "metadata": {},
     "output_type": "execute_result"
    }
   ],
   "source": [
    "stg_bezirke * 1.1"
   ]
  },
  {
   "cell_type": "markdown",
   "metadata": {},
   "source": [
    "#### Apply erlaubt es Operationen auf einzelnen Werten auszuführen"
   ]
  },
  {
   "cell_type": "code",
   "execution_count": 99,
   "metadata": {},
   "outputs": [
    {
     "data": {
      "text/plain": [
       "Bad Cannstatt     76602.65\n",
       "Birkach            7494.55\n",
       "Botnang           14587.75\n",
       "Degerloch         18529.95\n",
       "Feuerbach         31521.50\n",
       "Hedelfingen       10498.35\n",
       "Mitte             24414.50\n",
       "Moehringen        33942.25\n",
       "Muehlhausen       28990.35\n",
       "Muenster           7218.55\n",
       "Nord              28468.25\n",
       "Obertuerkheim      9293.15\n",
       "Ost               52699.90\n",
       "Plieningen        14388.80\n",
       "Sillenbuch        26638.60\n",
       "Stammheim         13471.10\n",
       "Sued              48848.55\n",
       "Untertuerkheim    18257.40\n",
       "Vaihingen         50071.00\n",
       "Wangen             9733.60\n",
       "Weilimdorf        35349.85\n",
       "West              57068.75\n",
       "Zuffenhausen      40922.75\n",
       "dtype: float64"
      ]
     },
     "execution_count": 99,
     "metadata": {},
     "output_type": "execute_result"
    }
   ],
   "source": [
    "stg_bezirke.apply(lambda x: x*1.15)"
   ]
  },
  {
   "cell_type": "markdown",
   "metadata": {},
   "source": [
    "## Aufgabe:"
   ]
  },
  {
   "cell_type": "markdown",
   "metadata": {},
   "source": [
    "    - Selektiere die Einwohnerzahlen von Obertuerkheim, Plieningen, Zuffenhausen\n",
    "    - Selektiere alle Bezirke mit mehr als 10.000 Einwohner\n",
    "    - Selektiere alle Bezirke deren Index mit \"heim\" endet\n",
    "    - Selektiere die Top 10 Bezirke gemessen an der Einwohnerzahl\n",
    "    - Berechne pro Stadtbezirk die Einwhonerzahl für 2015 unter der Prämisse dass von 2015 bis 2017 die Einwohnerzahl mit dem Faktor e^1.03 gewachsen ist (Bitte das Paket math berücksichtigen https://docs.python.org/3/library/math.html)\n",
    "    - Selektiere alle Bezirke, die eine \"6\" an der Tausenderstelle haben.\n",
    "    "
   ]
  },
  {
   "cell_type": "code",
   "execution_count": null,
   "metadata": {},
   "outputs": [],
   "source": []
  }
 ],
 "metadata": {
  "kernelspec": {
   "display_name": "Python 3",
   "language": "python",
   "name": "python3"
  },
  "language_info": {
   "codemirror_mode": {
    "name": "ipython",
    "version": 3
   },
   "file_extension": ".py",
   "mimetype": "text/x-python",
   "name": "python",
   "nbconvert_exporter": "python",
   "pygments_lexer": "ipython3",
   "version": "3.5.2"
  }
 },
 "nbformat": 4,
 "nbformat_minor": 2
}
